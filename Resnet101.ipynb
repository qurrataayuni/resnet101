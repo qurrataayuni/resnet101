{
  "cells": [
    {
      "cell_type": "code",
      "execution_count": 1,
      "metadata": {},
      "outputs": [
        {
          "name": "stdout",
          "output_type": "stream",
          "text": [
            "Requirement already satisfied: ipykernel in c:\\users\\hp\\miniconda3\\envs\\tf\\lib\\site-packages (6.15.0)\n",
            "Requirement already satisfied: pyzmq>=17 in c:\\users\\hp\\miniconda3\\envs\\tf\\lib\\site-packages (from ipykernel) (25.0.2)\n",
            "Requirement already satisfied: nest-asyncio in c:\\users\\hp\\miniconda3\\envs\\tf\\lib\\site-packages (from ipykernel) (1.5.6)\n",
            "Requirement already satisfied: traitlets>=5.1.0 in c:\\users\\hp\\miniconda3\\envs\\tf\\lib\\site-packages (from ipykernel) (5.9.0)\n",
            "Requirement already satisfied: tornado>=6.1 in c:\\users\\hp\\miniconda3\\envs\\tf\\lib\\site-packages (from ipykernel) (6.2)\n",
            "Requirement already satisfied: matplotlib-inline>=0.1 in c:\\users\\hp\\miniconda3\\envs\\tf\\lib\\site-packages (from ipykernel) (0.1.6)\n",
            "Requirement already satisfied: jupyter-client>=6.1.12 in c:\\users\\hp\\miniconda3\\envs\\tf\\lib\\site-packages (from ipykernel) (8.1.0)\n",
            "Requirement already satisfied: packaging in c:\\users\\hp\\miniconda3\\envs\\tf\\lib\\site-packages (from ipykernel) (23.0)\n",
            "Requirement already satisfied: debugpy>=1.0 in c:\\users\\hp\\miniconda3\\envs\\tf\\lib\\site-packages (from ipykernel) (1.5.1)\n",
            "Requirement already satisfied: psutil in c:\\users\\hp\\miniconda3\\envs\\tf\\lib\\site-packages (from ipykernel) (5.9.0)\n",
            "Requirement already satisfied: ipython>=7.23.1 in c:\\users\\hp\\miniconda3\\envs\\tf\\lib\\site-packages (from ipykernel) (8.11.0)\n",
            "Requirement already satisfied: pickleshare in c:\\users\\hp\\miniconda3\\envs\\tf\\lib\\site-packages (from ipython>=7.23.1->ipykernel) (0.7.5)\n",
            "Requirement already satisfied: stack-data in c:\\users\\hp\\miniconda3\\envs\\tf\\lib\\site-packages (from ipython>=7.23.1->ipykernel) (0.6.2)\n",
            "Requirement already satisfied: prompt-toolkit!=3.0.37,<3.1.0,>=3.0.30 in c:\\users\\hp\\miniconda3\\envs\\tf\\lib\\site-packages (from ipython>=7.23.1->ipykernel) (3.0.38)\n",
            "Requirement already satisfied: jedi>=0.16 in c:\\users\\hp\\miniconda3\\envs\\tf\\lib\\site-packages (from ipython>=7.23.1->ipykernel) (0.18.2)\n",
            "Requirement already satisfied: backcall in c:\\users\\hp\\miniconda3\\envs\\tf\\lib\\site-packages (from ipython>=7.23.1->ipykernel) (0.2.0)\n",
            "Requirement already satisfied: pygments>=2.4.0 in c:\\users\\hp\\miniconda3\\envs\\tf\\lib\\site-packages (from ipython>=7.23.1->ipykernel) (2.14.0)\n",
            "Requirement already satisfied: decorator in c:\\users\\hp\\miniconda3\\envs\\tf\\lib\\site-packages (from ipython>=7.23.1->ipykernel) (5.1.1)\n",
            "Requirement already satisfied: colorama in c:\\users\\hp\\miniconda3\\envs\\tf\\lib\\site-packages (from ipython>=7.23.1->ipykernel) (0.4.6)\n",
            "Requirement already satisfied: python-dateutil>=2.8.2 in c:\\users\\hp\\miniconda3\\envs\\tf\\lib\\site-packages (from jupyter-client>=6.1.12->ipykernel) (2.8.2)\n",
            "Requirement already satisfied: jupyter-core!=5.0.*,>=4.12 in c:\\users\\hp\\miniconda3\\envs\\tf\\lib\\site-packages (from jupyter-client>=6.1.12->ipykernel) (5.3.0)\n",
            "Requirement already satisfied: parso<0.9.0,>=0.8.0 in c:\\users\\hp\\miniconda3\\envs\\tf\\lib\\site-packages (from jedi>=0.16->ipython>=7.23.1->ipykernel) (0.8.3)\n",
            "Requirement already satisfied: pywin32>=300 in c:\\users\\hp\\miniconda3\\envs\\tf\\lib\\site-packages (from jupyter-core!=5.0.*,>=4.12->jupyter-client>=6.1.12->ipykernel) (305.1)\n",
            "Requirement already satisfied: platformdirs>=2.5 in c:\\users\\hp\\miniconda3\\envs\\tf\\lib\\site-packages (from jupyter-core!=5.0.*,>=4.12->jupyter-client>=6.1.12->ipykernel) (3.2.0)\n",
            "Requirement already satisfied: wcwidth in c:\\users\\hp\\miniconda3\\envs\\tf\\lib\\site-packages (from prompt-toolkit!=3.0.37,<3.1.0,>=3.0.30->ipython>=7.23.1->ipykernel) (0.2.6)\n",
            "Requirement already satisfied: six>=1.5 in c:\\users\\hp\\miniconda3\\envs\\tf\\lib\\site-packages (from python-dateutil>=2.8.2->jupyter-client>=6.1.12->ipykernel) (1.16.0)\n",
            "Requirement already satisfied: asttokens>=2.1.0 in c:\\users\\hp\\miniconda3\\envs\\tf\\lib\\site-packages (from stack-data->ipython>=7.23.1->ipykernel) (2.2.1)\n",
            "Requirement already satisfied: pure-eval in c:\\users\\hp\\miniconda3\\envs\\tf\\lib\\site-packages (from stack-data->ipython>=7.23.1->ipykernel) (0.2.2)\n",
            "Requirement already satisfied: executing>=1.2.0 in c:\\users\\hp\\miniconda3\\envs\\tf\\lib\\site-packages (from stack-data->ipython>=7.23.1->ipykernel) (1.2.0)\n",
            "Note: you may need to restart the kernel to use updated packages.\n"
          ]
        }
      ],
      "source": [
        "pip install ipykernel"
      ]
    },
    {
      "cell_type": "code",
      "execution_count": null,
      "metadata": {},
      "outputs": [
        {
          "name": "stdout",
          "output_type": "stream",
          "text": [
            "Requirement already satisfied: protobuf==3.20.* in c:\\users\\labdata\\.conda\\envs\\gpr\\lib\\site-packages (3.20.3)\n",
            "Note: you may need to restart the kernel to use updated packages.\n"
          ]
        },
        {
          "name": "stderr",
          "output_type": "stream",
          "text": [
            "WARNING: Ignoring invalid distribution -rotobuf (c:\\users\\labdata\\.conda\\envs\\gpr\\lib\\site-packages)\n",
            "WARNING: Ignoring invalid distribution -orch (c:\\users\\labdata\\.conda\\envs\\gpr\\lib\\site-packages)\n",
            "WARNING: Ignoring invalid distribution -rotobuf (c:\\users\\labdata\\.conda\\envs\\gpr\\lib\\site-packages)\n",
            "WARNING: Ignoring invalid distribution -orch (c:\\users\\labdata\\.conda\\envs\\gpr\\lib\\site-packages)\n",
            "WARNING: Ignoring invalid distribution -rotobuf (c:\\users\\labdata\\.conda\\envs\\gpr\\lib\\site-packages)\n",
            "WARNING: Ignoring invalid distribution -orch (c:\\users\\labdata\\.conda\\envs\\gpr\\lib\\site-packages)\n",
            "WARNING: Ignoring invalid distribution -rotobuf (c:\\users\\labdata\\.conda\\envs\\gpr\\lib\\site-packages)\n",
            "WARNING: Ignoring invalid distribution -orch (c:\\users\\labdata\\.conda\\envs\\gpr\\lib\\site-packages)\n",
            "WARNING: Ignoring invalid distribution -rotobuf (c:\\users\\labdata\\.conda\\envs\\gpr\\lib\\site-packages)\n",
            "WARNING: Ignoring invalid distribution -orch (c:\\users\\labdata\\.conda\\envs\\gpr\\lib\\site-packages)\n",
            "WARNING: Ignoring invalid distribution -rotobuf (c:\\users\\labdata\\.conda\\envs\\gpr\\lib\\site-packages)\n",
            "WARNING: Ignoring invalid distribution -orch (c:\\users\\labdata\\.conda\\envs\\gpr\\lib\\site-packages)\n"
          ]
        }
      ],
      "source": [
        "pip install protobuf==3.20.*"
      ]
    },
    {
      "cell_type": "code",
      "execution_count": 2,
      "metadata": {},
      "outputs": [
        {
          "name": "stdout",
          "output_type": "stream",
          "text": [
            "Requirement already satisfied: scipy-stack in c:\\users\\labdata\\.conda\\envs\\gpr\\lib\\site-packages (0.0.5)\n",
            "Requirement already satisfied: nose>=1.3.7 in c:\\users\\labdata\\.conda\\envs\\gpr\\lib\\site-packages (from scipy-stack) (1.3.7)\n",
            "Requirement already satisfied: scipy>=1.0.0 in c:\\users\\labdata\\.conda\\envs\\gpr\\lib\\site-packages (from scipy-stack) (1.10.0)\n",
            "Requirement already satisfied: matplotlib>=2.0.2 in c:\\users\\labdata\\.conda\\envs\\gpr\\lib\\site-packages (from scipy-stack) (3.5.2)\n",
            "Requirement already satisfied: jupyter>=1.0.0 in c:\\users\\labdata\\.conda\\envs\\gpr\\lib\\site-packages (from scipy-stack) (1.0.0)\n",
            "Requirement already satisfied: sympy>=1.1.1 in c:\\users\\labdata\\.conda\\envs\\gpr\\lib\\site-packages (from scipy-stack) (1.11.1)\n",
            "Requirement already satisfied: numpy>=1.13.1 in c:\\users\\labdata\\.conda\\envs\\gpr\\lib\\site-packages (from scipy-stack) (1.23.0)\n",
            "Requirement already satisfied: pandas>=0.20.3 in c:\\users\\labdata\\.conda\\envs\\gpr\\lib\\site-packages (from scipy-stack) (1.4.2)\n",
            "Requirement already satisfied: qtconsole in c:\\users\\labdata\\.conda\\envs\\gpr\\lib\\site-packages (from jupyter>=1.0.0->scipy-stack) (5.3.1)\n",
            "Requirement already satisfied: ipywidgets in c:\\users\\labdata\\.conda\\envs\\gpr\\lib\\site-packages (from jupyter>=1.0.0->scipy-stack) (7.7.1)\n",
            "Requirement already satisfied: notebook in c:\\users\\labdata\\.conda\\envs\\gpr\\lib\\site-packages (from jupyter>=1.0.0->scipy-stack) (6.4.12)\n",
            "Requirement already satisfied: nbconvert in c:\\users\\labdata\\.conda\\envs\\gpr\\lib\\site-packages (from jupyter>=1.0.0->scipy-stack) (6.5.0)\n",
            "Requirement already satisfied: ipykernel in c:\\users\\labdata\\.conda\\envs\\gpr\\lib\\site-packages (from jupyter>=1.0.0->scipy-stack) (6.15.0)\n",
            "Requirement already satisfied: jupyter-console in c:\\users\\labdata\\.conda\\envs\\gpr\\lib\\site-packages (from jupyter>=1.0.0->scipy-stack) (6.4.4)\n",
            "Requirement already satisfied: kiwisolver>=1.0.1 in c:\\users\\labdata\\.conda\\envs\\gpr\\lib\\site-packages (from matplotlib>=2.0.2->scipy-stack) (1.4.2)\n",
            "Requirement already satisfied: python-dateutil>=2.7 in c:\\users\\labdata\\.conda\\envs\\gpr\\lib\\site-packages (from matplotlib>=2.0.2->scipy-stack) (2.8.2)\n",
            "Requirement already satisfied: pillow>=6.2.0 in c:\\users\\labdata\\.conda\\envs\\gpr\\lib\\site-packages (from matplotlib>=2.0.2->scipy-stack) (9.2.0)\n",
            "Requirement already satisfied: fonttools>=4.22.0 in c:\\users\\labdata\\.conda\\envs\\gpr\\lib\\site-packages (from matplotlib>=2.0.2->scipy-stack) (4.25.0)\n",
            "Requirement already satisfied: pyparsing>=2.2.1 in c:\\users\\labdata\\.conda\\envs\\gpr\\lib\\site-packages (from matplotlib>=2.0.2->scipy-stack) (3.0.9)\n",
            "Requirement already satisfied: packaging>=20.0 in c:\\users\\labdata\\.conda\\envs\\gpr\\lib\\site-packages (from matplotlib>=2.0.2->scipy-stack) (21.3)\n",
            "Requirement already satisfied: cycler>=0.10 in c:\\users\\labdata\\.conda\\envs\\gpr\\lib\\site-packages (from matplotlib>=2.0.2->scipy-stack) (0.11.0)\n",
            "Requirement already satisfied: pytz>=2020.1 in c:\\users\\labdata\\.conda\\envs\\gpr\\lib\\site-packages (from pandas>=0.20.3->scipy-stack) (2022.1)\n",
            "Requirement already satisfied: six>=1.5 in c:\\users\\labdata\\.conda\\envs\\gpr\\lib\\site-packages (from python-dateutil>=2.7->matplotlib>=2.0.2->scipy-stack) (1.16.0)\n",
            "Requirement already satisfied: mpmath>=0.19 in c:\\users\\labdata\\.conda\\envs\\gpr\\lib\\site-packages (from sympy>=1.1.1->scipy-stack) (1.2.1)\n",
            "Requirement already satisfied: ipython>=7.23.1 in c:\\users\\labdata\\.conda\\envs\\gpr\\lib\\site-packages (from ipykernel->jupyter>=1.0.0->scipy-stack) (8.4.0)\n",
            "Requirement already satisfied: traitlets>=5.1.0 in c:\\users\\labdata\\.conda\\envs\\gpr\\lib\\site-packages (from ipykernel->jupyter>=1.0.0->scipy-stack) (5.3.0)\n",
            "Requirement already satisfied: psutil in c:\\users\\labdata\\.conda\\envs\\gpr\\lib\\site-packages (from ipykernel->jupyter>=1.0.0->scipy-stack) (5.9.1)\n",
            "Requirement already satisfied: tornado>=6.1 in c:\\users\\labdata\\.conda\\envs\\gpr\\lib\\site-packages (from ipykernel->jupyter>=1.0.0->scipy-stack) (6.1)\n",
            "Requirement already satisfied: nest-asyncio in c:\\users\\labdata\\.conda\\envs\\gpr\\lib\\site-packages (from ipykernel->jupyter>=1.0.0->scipy-stack) (1.5.5)\n",
            "Requirement already satisfied: debugpy>=1.0 in c:\\users\\labdata\\.conda\\envs\\gpr\\lib\\site-packages (from ipykernel->jupyter>=1.0.0->scipy-stack) (1.6.0)\n",
            "Requirement already satisfied: pyzmq>=17 in c:\\users\\labdata\\.conda\\envs\\gpr\\lib\\site-packages (from ipykernel->jupyter>=1.0.0->scipy-stack) (23.2.0)\n",
            "Requirement already satisfied: jupyter-client>=6.1.12 in c:\\users\\labdata\\.conda\\envs\\gpr\\lib\\site-packages (from ipykernel->jupyter>=1.0.0->scipy-stack) (7.3.4)\n",
            "Requirement already satisfied: matplotlib-inline>=0.1 in c:\\users\\labdata\\.conda\\envs\\gpr\\lib\\site-packages (from ipykernel->jupyter>=1.0.0->scipy-stack) (0.1.2)\n",
            "Requirement already satisfied: backcall in c:\\users\\labdata\\.conda\\envs\\gpr\\lib\\site-packages (from ipython>=7.23.1->ipykernel->jupyter>=1.0.0->scipy-stack) (0.2.0)\n",
            "Requirement already satisfied: setuptools>=18.5 in c:\\users\\labdata\\.conda\\envs\\gpr\\lib\\site-packages (from ipython>=7.23.1->ipykernel->jupyter>=1.0.0->scipy-stack) (61.2.0)\n",
            "Requirement already satisfied: colorama in c:\\users\\labdata\\.conda\\envs\\gpr\\lib\\site-packages (from ipython>=7.23.1->ipykernel->jupyter>=1.0.0->scipy-stack) (0.4.5)\n",
            "Requirement already satisfied: decorator in c:\\users\\labdata\\.conda\\envs\\gpr\\lib\\site-packages (from ipython>=7.23.1->ipykernel->jupyter>=1.0.0->scipy-stack) (5.1.1)\n",
            "Requirement already satisfied: pickleshare in c:\\users\\labdata\\.conda\\envs\\gpr\\lib\\site-packages (from ipython>=7.23.1->ipykernel->jupyter>=1.0.0->scipy-stack) (0.7.5)\n",
            "Requirement already satisfied: jedi>=0.16 in c:\\users\\labdata\\.conda\\envs\\gpr\\lib\\site-packages (from ipython>=7.23.1->ipykernel->jupyter>=1.0.0->scipy-stack) (0.17.2)\n",
            "Requirement already satisfied: prompt-toolkit!=3.0.0,!=3.0.1,<3.1.0,>=2.0.0 in c:\\users\\labdata\\.conda\\envs\\gpr\\lib\\site-packages (from ipython>=7.23.1->ipykernel->jupyter>=1.0.0->scipy-stack) (3.0.30)\n",
            "Requirement already satisfied: pygments>=2.4.0 in c:\\users\\labdata\\.conda\\envs\\gpr\\lib\\site-packages (from ipython>=7.23.1->ipykernel->jupyter>=1.0.0->scipy-stack) (2.12.0)\n",
            "Requirement already satisfied: stack-data in c:\\users\\labdata\\.conda\\envs\\gpr\\lib\\site-packages (from ipython>=7.23.1->ipykernel->jupyter>=1.0.0->scipy-stack) (0.3.0)\n",
            "Requirement already satisfied: parso<0.8.0,>=0.7.0 in c:\\users\\labdata\\.conda\\envs\\gpr\\lib\\site-packages (from jedi>=0.16->ipython>=7.23.1->ipykernel->jupyter>=1.0.0->scipy-stack) (0.7.0)\n",
            "Requirement already satisfied: jupyter-core>=4.9.2 in c:\\users\\labdata\\.conda\\envs\\gpr\\lib\\site-packages (from jupyter-client>=6.1.12->ipykernel->jupyter>=1.0.0->scipy-stack) (4.10.0)\n",
            "Requirement already satisfied: entrypoints in c:\\users\\labdata\\.conda\\envs\\gpr\\lib\\site-packages (from jupyter-client>=6.1.12->ipykernel->jupyter>=1.0.0->scipy-stack) (0.4)\n",
            "Requirement already satisfied: pywin32>=1.0 in c:\\users\\labdata\\.conda\\envs\\gpr\\lib\\site-packages (from jupyter-core>=4.9.2->jupyter-client>=6.1.12->ipykernel->jupyter>=1.0.0->scipy-stack) (304)\n",
            "Requirement already satisfied: wcwidth in c:\\users\\labdata\\.conda\\envs\\gpr\\lib\\site-packages (from prompt-toolkit!=3.0.0,!=3.0.1,<3.1.0,>=2.0.0->ipython>=7.23.1->ipykernel->jupyter>=1.0.0->scipy-stack) (0.2.5)\n",
            "Requirement already satisfied: widgetsnbextension~=3.6.0 in c:\\users\\labdata\\.conda\\envs\\gpr\\lib\\site-packages (from ipywidgets->jupyter>=1.0.0->scipy-stack) (3.6.1)\n",
            "Requirement already satisfied: ipython-genutils~=0.2.0 in c:\\users\\labdata\\.conda\\envs\\gpr\\lib\\site-packages (from ipywidgets->jupyter>=1.0.0->scipy-stack) (0.2.0)\n",
            "Requirement already satisfied: jupyterlab-widgets>=1.0.0 in c:\\users\\labdata\\.conda\\envs\\gpr\\lib\\site-packages (from ipywidgets->jupyter>=1.0.0->scipy-stack) (1.1.1)\n",
            "Requirement already satisfied: Send2Trash>=1.8.0 in c:\\users\\labdata\\.conda\\envs\\gpr\\lib\\site-packages (from notebook->jupyter>=1.0.0->scipy-stack) (1.8.0)\n",
            "Requirement already satisfied: terminado>=0.8.3 in c:\\users\\labdata\\.conda\\envs\\gpr\\lib\\site-packages (from notebook->jupyter>=1.0.0->scipy-stack) (0.15.0)\n",
            "Requirement already satisfied: jinja2 in c:\\users\\labdata\\.conda\\envs\\gpr\\lib\\site-packages (from notebook->jupyter>=1.0.0->scipy-stack) (3.1.2)\n",
            "Requirement already satisfied: nbformat in c:\\users\\labdata\\.conda\\envs\\gpr\\lib\\site-packages (from notebook->jupyter>=1.0.0->scipy-stack) (5.4.0)\n",
            "Requirement already satisfied: prometheus-client in c:\\users\\labdata\\.conda\\envs\\gpr\\lib\\site-packages (from notebook->jupyter>=1.0.0->scipy-stack) (0.14.1)Note: you may need to restart the kernel to use updated packages.\n",
            "\n"
          ]
        },
        {
          "name": "stderr",
          "output_type": "stream",
          "text": [
            "WARNING: Ignoring invalid distribution -rotobuf (c:\\users\\labdata\\.conda\\envs\\gpr\\lib\\site-packages)\n",
            "WARNING: Ignoring invalid distribution -orch (c:\\users\\labdata\\.conda\\envs\\gpr\\lib\\site-packages)\n",
            "WARNING: Ignoring invalid distribution -rotobuf (c:\\users\\labdata\\.conda\\envs\\gpr\\lib\\site-packages)\n",
            "WARNING: Ignoring invalid distribution -orch (c:\\users\\labdata\\.conda\\envs\\gpr\\lib\\site-packages)\n",
            "WARNING: Ignoring invalid distribution -rotobuf (c:\\users\\labdata\\.conda\\envs\\gpr\\lib\\site-packages)\n",
            "WARNING: Ignoring invalid distribution -orch (c:\\users\\labdata\\.conda\\envs\\gpr\\lib\\site-packages)\n",
            "WARNING: Ignoring invalid distribution -rotobuf (c:\\users\\labdata\\.conda\\envs\\gpr\\lib\\site-packages)\n",
            "WARNING: Ignoring invalid distribution -orch (c:\\users\\labdata\\.conda\\envs\\gpr\\lib\\site-packages)\n",
            "WARNING: Ignoring invalid distribution -rotobuf (c:\\users\\labdata\\.conda\\envs\\gpr\\lib\\site-packages)\n",
            "WARNING: Ignoring invalid distribution -orch (c:\\users\\labdata\\.conda\\envs\\gpr\\lib\\site-packages)\n",
            "WARNING: Ignoring invalid distribution -rotobuf (c:\\users\\labdata\\.conda\\envs\\gpr\\lib\\site-packages)\n",
            "WARNING: Ignoring invalid distribution -orch (c:\\users\\labdata\\.conda\\envs\\gpr\\lib\\site-packages)\n"
          ]
        },
        {
          "name": "stdout",
          "output_type": "stream",
          "text": [
            "Requirement already satisfied: argon2-cffi in c:\\users\\labdata\\.conda\\envs\\gpr\\lib\\site-packages (from notebook->jupyter>=1.0.0->scipy-stack) (21.3.0)\n",
            "Requirement already satisfied: nbclient>=0.5.0 in c:\\users\\labdata\\.conda\\envs\\gpr\\lib\\site-packages (from nbconvert->jupyter>=1.0.0->scipy-stack) (0.6.5)\n",
            "Requirement already satisfied: beautifulsoup4 in c:\\users\\labdata\\.conda\\envs\\gpr\\lib\\site-packages (from nbconvert->jupyter>=1.0.0->scipy-stack) (4.11.1)\n",
            "Requirement already satisfied: jupyterlab-pygments in c:\\users\\labdata\\.conda\\envs\\gpr\\lib\\site-packages (from nbconvert->jupyter>=1.0.0->scipy-stack) (0.2.2)\n",
            "Requirement already satisfied: MarkupSafe>=2.0 in c:\\users\\labdata\\.conda\\envs\\gpr\\lib\\site-packages (from nbconvert->jupyter>=1.0.0->scipy-stack) (2.1.1)\n",
            "Requirement already satisfied: mistune<2,>=0.8.1 in c:\\users\\labdata\\.conda\\envs\\gpr\\lib\\site-packages (from nbconvert->jupyter>=1.0.0->scipy-stack) (0.8.4)\n",
            "Requirement already satisfied: defusedxml in c:\\users\\labdata\\.conda\\envs\\gpr\\lib\\site-packages (from nbconvert->jupyter>=1.0.0->scipy-stack) (0.7.1)\n",
            "Requirement already satisfied: pandocfilters>=1.4.1 in c:\\users\\labdata\\.conda\\envs\\gpr\\lib\\site-packages (from nbconvert->jupyter>=1.0.0->scipy-stack) (1.5.0)\n",
            "Requirement already satisfied: tinycss2 in c:\\users\\labdata\\.conda\\envs\\gpr\\lib\\site-packages (from nbconvert->jupyter>=1.0.0->scipy-stack) (1.1.1)\n",
            "Requirement already satisfied: bleach in c:\\users\\labdata\\.conda\\envs\\gpr\\lib\\site-packages (from nbconvert->jupyter>=1.0.0->scipy-stack) (5.0.1)\n",
            "Requirement already satisfied: jsonschema>=2.6 in c:\\users\\labdata\\.conda\\envs\\gpr\\lib\\site-packages (from nbformat->notebook->jupyter>=1.0.0->scipy-stack) (4.6.1)\n",
            "Requirement already satisfied: fastjsonschema in c:\\users\\labdata\\.conda\\envs\\gpr\\lib\\site-packages (from nbformat->notebook->jupyter>=1.0.0->scipy-stack) (2.15.3)\n",
            "Requirement already satisfied: pyrsistent!=0.17.0,!=0.17.1,!=0.17.2,>=0.14.0 in c:\\users\\labdata\\.conda\\envs\\gpr\\lib\\site-packages (from jsonschema>=2.6->nbformat->notebook->jupyter>=1.0.0->scipy-stack) (0.18.1)\n",
            "Requirement already satisfied: attrs>=17.4.0 in c:\\users\\labdata\\.conda\\envs\\gpr\\lib\\site-packages (from jsonschema>=2.6->nbformat->notebook->jupyter>=1.0.0->scipy-stack) (21.4.0)\n",
            "Requirement already satisfied: pywinpty>=1.1.0 in c:\\users\\labdata\\.conda\\envs\\gpr\\lib\\site-packages (from terminado>=0.8.3->notebook->jupyter>=1.0.0->scipy-stack) (2.0.5)\n",
            "Requirement already satisfied: argon2-cffi-bindings in c:\\users\\labdata\\.conda\\envs\\gpr\\lib\\site-packages (from argon2-cffi->notebook->jupyter>=1.0.0->scipy-stack) (21.2.0)\n",
            "Requirement already satisfied: cffi>=1.0.1 in c:\\users\\labdata\\.conda\\envs\\gpr\\lib\\site-packages (from argon2-cffi-bindings->argon2-cffi->notebook->jupyter>=1.0.0->scipy-stack) (1.15.0)\n",
            "Requirement already satisfied: pycparser in c:\\users\\labdata\\.conda\\envs\\gpr\\lib\\site-packages (from cffi>=1.0.1->argon2-cffi-bindings->argon2-cffi->notebook->jupyter>=1.0.0->scipy-stack) (2.21)\n",
            "Requirement already satisfied: soupsieve>1.2 in c:\\users\\labdata\\.conda\\envs\\gpr\\lib\\site-packages (from beautifulsoup4->nbconvert->jupyter>=1.0.0->scipy-stack) (2.3.2.post1)\n",
            "Requirement already satisfied: webencodings in c:\\users\\labdata\\.conda\\envs\\gpr\\lib\\site-packages (from bleach->nbconvert->jupyter>=1.0.0->scipy-stack) (0.5.1)\n",
            "Requirement already satisfied: qtpy>=2.0.1 in c:\\users\\labdata\\.conda\\envs\\gpr\\lib\\site-packages (from qtconsole->jupyter>=1.0.0->scipy-stack) (2.1.0)\n",
            "Requirement already satisfied: pure-eval in c:\\users\\labdata\\.conda\\envs\\gpr\\lib\\site-packages (from stack-data->ipython>=7.23.1->ipykernel->jupyter>=1.0.0->scipy-stack) (0.2.2)\n",
            "Requirement already satisfied: executing in c:\\users\\labdata\\.conda\\envs\\gpr\\lib\\site-packages (from stack-data->ipython>=7.23.1->ipykernel->jupyter>=1.0.0->scipy-stack) (0.8.3)\n",
            "Requirement already satisfied: asttokens in c:\\users\\labdata\\.conda\\envs\\gpr\\lib\\site-packages (from stack-data->ipython>=7.23.1->ipykernel->jupyter>=1.0.0->scipy-stack) (2.0.5)\n"
          ]
        }
      ],
      "source": [
        "pip install scipy-stack"
      ]
    },
    {
      "cell_type": "code",
      "execution_count": 3,
      "metadata": {},
      "outputs": [
        {
          "name": "stdout",
          "output_type": "stream",
          "text": [
            "Requirement already satisfied: mlxtend in c:\\users\\labdata\\.conda\\envs\\gpr\\lib\\site-packages (0.21.0)Note: you may need to restart the kernel to use updated packages.\n"
          ]
        },
        {
          "name": "stderr",
          "output_type": "stream",
          "text": [
            "WARNING: Ignoring invalid distribution -rotobuf (c:\\users\\labdata\\.conda\\envs\\gpr\\lib\\site-packages)\n",
            "WARNING: Ignoring invalid distribution -orch (c:\\users\\labdata\\.conda\\envs\\gpr\\lib\\site-packages)\n",
            "WARNING: Ignoring invalid distribution -rotobuf (c:\\users\\labdata\\.conda\\envs\\gpr\\lib\\site-packages)\n",
            "WARNING: Ignoring invalid distribution -orch (c:\\users\\labdata\\.conda\\envs\\gpr\\lib\\site-packages)\n",
            "WARNING: Ignoring invalid distribution -rotobuf (c:\\users\\labdata\\.conda\\envs\\gpr\\lib\\site-packages)\n",
            "WARNING: Ignoring invalid distribution -orch (c:\\users\\labdata\\.conda\\envs\\gpr\\lib\\site-packages)\n",
            "WARNING: Ignoring invalid distribution -rotobuf (c:\\users\\labdata\\.conda\\envs\\gpr\\lib\\site-packages)\n",
            "WARNING: Ignoring invalid distribution -orch (c:\\users\\labdata\\.conda\\envs\\gpr\\lib\\site-packages)\n",
            "WARNING: Ignoring invalid distribution -rotobuf (c:\\users\\labdata\\.conda\\envs\\gpr\\lib\\site-packages)\n",
            "WARNING: Ignoring invalid distribution -orch (c:\\users\\labdata\\.conda\\envs\\gpr\\lib\\site-packages)\n",
            "WARNING: Ignoring invalid distribution -rotobuf (c:\\users\\labdata\\.conda\\envs\\gpr\\lib\\site-packages)\n",
            "WARNING: Ignoring invalid distribution -orch (c:\\users\\labdata\\.conda\\envs\\gpr\\lib\\site-packages)\n"
          ]
        },
        {
          "name": "stdout",
          "output_type": "stream",
          "text": [
            "\n",
            "Requirement already satisfied: scipy>=1.2.1 in c:\\users\\labdata\\.conda\\envs\\gpr\\lib\\site-packages (from mlxtend) (1.10.0)\n",
            "Requirement already satisfied: matplotlib>=3.0.0 in c:\\users\\labdata\\.conda\\envs\\gpr\\lib\\site-packages (from mlxtend) (3.5.2)\n",
            "Requirement already satisfied: setuptools in c:\\users\\labdata\\.conda\\envs\\gpr\\lib\\site-packages (from mlxtend) (61.2.0)\n",
            "Requirement already satisfied: numpy>=1.16.2 in c:\\users\\labdata\\.conda\\envs\\gpr\\lib\\site-packages (from mlxtend) (1.23.0)\n",
            "Requirement already satisfied: joblib>=0.13.2 in c:\\users\\labdata\\.conda\\envs\\gpr\\lib\\site-packages (from mlxtend) (1.1.0)\n",
            "Requirement already satisfied: pandas>=0.24.2 in c:\\users\\labdata\\.conda\\envs\\gpr\\lib\\site-packages (from mlxtend) (1.4.2)\n",
            "Requirement already satisfied: scikit-learn>=1.0.2 in c:\\users\\labdata\\.conda\\envs\\gpr\\lib\\site-packages (from mlxtend) (1.1.1)\n",
            "Requirement already satisfied: kiwisolver>=1.0.1 in c:\\users\\labdata\\.conda\\envs\\gpr\\lib\\site-packages (from matplotlib>=3.0.0->mlxtend) (1.4.2)\n",
            "Requirement already satisfied: pyparsing>=2.2.1 in c:\\users\\labdata\\.conda\\envs\\gpr\\lib\\site-packages (from matplotlib>=3.0.0->mlxtend) (3.0.9)\n",
            "Requirement already satisfied: fonttools>=4.22.0 in c:\\users\\labdata\\.conda\\envs\\gpr\\lib\\site-packages (from matplotlib>=3.0.0->mlxtend) (4.25.0)\n",
            "Requirement already satisfied: python-dateutil>=2.7 in c:\\users\\labdata\\.conda\\envs\\gpr\\lib\\site-packages (from matplotlib>=3.0.0->mlxtend) (2.8.2)\n",
            "Requirement already satisfied: cycler>=0.10 in c:\\users\\labdata\\.conda\\envs\\gpr\\lib\\site-packages (from matplotlib>=3.0.0->mlxtend) (0.11.0)\n",
            "Requirement already satisfied: pillow>=6.2.0 in c:\\users\\labdata\\.conda\\envs\\gpr\\lib\\site-packages (from matplotlib>=3.0.0->mlxtend) (9.2.0)\n",
            "Requirement already satisfied: packaging>=20.0 in c:\\users\\labdata\\.conda\\envs\\gpr\\lib\\site-packages (from matplotlib>=3.0.0->mlxtend) (21.3)\n",
            "Requirement already satisfied: pytz>=2020.1 in c:\\users\\labdata\\.conda\\envs\\gpr\\lib\\site-packages (from pandas>=0.24.2->mlxtend) (2022.1)\n",
            "Requirement already satisfied: six>=1.5 in c:\\users\\labdata\\.conda\\envs\\gpr\\lib\\site-packages (from python-dateutil>=2.7->matplotlib>=3.0.0->mlxtend) (1.16.0)\n",
            "Requirement already satisfied: threadpoolctl>=2.0.0 in c:\\users\\labdata\\.conda\\envs\\gpr\\lib\\site-packages (from scikit-learn>=1.0.2->mlxtend) (3.1.0)\n"
          ]
        }
      ],
      "source": [
        "pip install mlxtend"
      ]
    },
    {
      "cell_type": "code",
      "execution_count": 1,
      "metadata": {
        "id": "ybXTYnWTzOta"
      },
      "outputs": [],
      "source": [
        "import numpy as np\n",
        "from scipy import linalg\n",
        "# seed = 232\n",
        "# np.random.seed(seed)\n",
        "input_path = \"penelitian_tbc_3/\""
      ]
    },
    {
      "cell_type": "code",
      "execution_count": 2,
      "metadata": {
        "id": "jIqt7nNezlNb"
      },
      "outputs": [],
      "source": [
        "import os\n",
        "import pandas as pd\n",
        "import random\n",
        "import cv2\n",
        "import matplotlib.pyplot as plt\n",
        "%matplotlib inline"
      ]
    },
    {
      "cell_type": "code",
      "execution_count": 4,
      "metadata": {
        "colab": {
          "base_uri": "https://localhost:8080/"
        },
        "id": "UlO8sNxrEa0j",
        "outputId": "60c50029-b61f-4398-8bb1-fe0cd5a6834d"
      },
      "outputs": [
        {
          "name": "stdout",
          "output_type": "stream",
          "text": [
            "Set: train, normal images: 196, tbc images: 196\n",
            "Set: val, normal images: 65, tbc images: 65\n",
            "Set: test, normal images: 65, tbc images: 65\n"
          ]
        }
      ],
      "source": [
        "#Display total images avaible in train, val dan test sets\n",
        "for _set in ['train','val','test']:\n",
        "  n_normal = len(os.listdir(input_path +_set + '/normal'))\n",
        "  n_infect = len(os.listdir(input_path +_set + '/tbc'))\n",
        "  print('Set: {}, normal images: {}, tbc images: {}'.format(_set, n_normal, n_infect))"
      ]
    },
    {
      "cell_type": "code",
      "execution_count": 5,
      "metadata": {
        "id": "bm9qu5amLR_V"
      },
      "outputs": [],
      "source": [
        "#define some constants\n",
        "img_dims = 224\n",
        "batch_size = 4"
      ]
    },
    {
      "cell_type": "code",
      "execution_count": 6,
      "metadata": {
        "colab": {
          "base_uri": "https://localhost:8080/"
        },
        "id": "Eas28xgeZFfH",
        "outputId": "048ae216-9982-411c-f9fd-b42c0a5457bd"
      },
      "outputs": [
        {
          "name": "stdout",
          "output_type": "stream",
          "text": [
            "Found 392 images belonging to 2 classes.\n",
            "Found 130 images belonging to 2 classes.\n"
          ]
        }
      ],
      "source": [
        "from tensorflow.keras.preprocessing.image import ImageDataGenerator\n",
        "# image augmentations\n",
        "image_gen = ImageDataGenerator(rescale=1./255\n",
        "                               #validation_split=0.2\n",
        "                               )\n",
        "\n",
        "# flow_from_directory generators\n",
        "train_generator = image_gen.flow_from_directory(\n",
        "                  directory = input_path+'train',\n",
        "                  target_size=(img_dims, img_dims),\n",
        "                  class_mode=\"binary\",\n",
        "                  batch_size=batch_size,\n",
        "                  #subset='training'\n",
        "                  )\n",
        "\n",
        "validation_generator = image_gen.flow_from_directory(\n",
        "                  directory = input_path+'val',\n",
        "                  target_size=(img_dims, img_dims),\n",
        "                  class_mode=\"binary\",\n",
        "                  batch_size=batch_size,\n",
        "                  #subset='validation'\n",
        "                  )\n"
      ]
    },
    {
      "cell_type": "code",
      "execution_count": 7,
      "metadata": {
        "colab": {
          "base_uri": "https://localhost:8080/"
        },
        "id": "BRM0eAz5sTur",
        "outputId": "dc6a17e4-56cd-4aeb-eab4-ebf079e2be5a"
      },
      "outputs": [],
      "source": [
        "import efficientnet.keras as efn\n",
        "from tensorflow.keras.callbacks import Callback\n",
        "from keras.models import Model\n",
        "from keras.layers import Dense, GlobalAveragePooling2D\n",
        "from keras.callbacks import ReduceLROnPlateau, ModelCheckpoint\n",
        "import tensorflow as tf\n",
        "# from tensorflow.keras.metrics import Recall, Precision, Sensitivity, Specificity\n",
        "\n",
        "# Callbacks\n",
        "## Keep the best model\n",
        "# mc = ModelCheckpoint('model.hdf5', \n",
        "                    #  save_best_only=True, \n",
        "                    #  verbose=0, \n",
        "                    #  monitor='val_loss', \n",
        "                    #  mode='min')\n",
        "\n",
        "## Reduce learning rate if it gets stuck in a plateau\n",
        "# rlr = ReduceLROnPlateau(monitor='val_loss', \n",
        "#                         factor=0.3, \n",
        "#                         patience=3, \n",
        "#                         min_lr=0.000001, \n",
        "#                         verbose=1)\n",
        "\n",
        "# Model\n",
        "## Define the base model with EfficientNet weights\n",
        "model = tf.keras.applications.ResNet101(weights = 'imagenet', \n",
        "                           include_top = False, \n",
        "                           input_shape = (img_dims, img_dims, 3),\n",
        "                           pooling='avg')"
      ]
    },
    {
      "cell_type": "code",
      "execution_count": 8,
      "metadata": {
        "id": "bMh59NKPtKag"
      },
      "outputs": [],
      "source": [
        "import tensorflow as tf\n",
        "from tensorflow.keras.optimizers import Adam\n",
        "## Output layer\n",
        "x = model.output\n",
        "#x = GlobalAveragePooling2D()(x)\n",
        "x = Dense(64, activation=\"relu\")(x)\n",
        "x = Dense(32, activation=\"relu\")(x)\n",
        "predictions = Dense(1, activation=\"sigmoid\")(x)\n",
        "\n",
        "## Compile and run\n",
        "model = Model(inputs=model.input, outputs=predictions)\n",
        "\n",
        "model.compile(optimizer=tf.keras.optimizers.SGD(learning_rate=0.001, momentum=0.9,name=\"SGD\"),\n",
        "              loss='binary_crossentropy', \n",
        "              #metrics=['accuracy', Precision()])\n",
        "              metrics=['accuracy'])"
      ]
    },
    {
      "cell_type": "code",
      "execution_count": 9,
      "metadata": {
        "colab": {
          "base_uri": "https://localhost:8080/"
        },
        "id": "Z8vTeLLVtR_p",
        "outputId": "58a5c5ba-5db4-46c6-c1f2-996dbfc73077"
      },
      "outputs": [
        {
          "name": "stdout",
          "output_type": "stream",
          "text": [
            "Epoch 1/200\n",
            "98/98 [==============================] - 25s 138ms/step - loss: 0.3285 - accuracy: 0.8444 - val_loss: 0.9489 - val_accuracy: 0.5000\n",
            "Epoch 2/200\n",
            "98/98 [==============================] - 12s 119ms/step - loss: 0.1225 - accuracy: 0.9464 - val_loss: 1.3525 - val_accuracy: 0.5000\n",
            "Epoch 3/200\n",
            "98/98 [==============================] - 12s 119ms/step - loss: 0.0606 - accuracy: 0.9745 - val_loss: 0.7403 - val_accuracy: 0.5462\n",
            "Epoch 4/200\n",
            "98/98 [==============================] - 12s 120ms/step - loss: 0.0363 - accuracy: 0.9872 - val_loss: 0.7122 - val_accuracy: 0.6077\n",
            "Epoch 5/200\n",
            "98/98 [==============================] - 12s 120ms/step - loss: 0.0336 - accuracy: 0.9847 - val_loss: 1.4394 - val_accuracy: 0.4923\n",
            "Epoch 6/200\n",
            "98/98 [==============================] - 12s 120ms/step - loss: 0.0134 - accuracy: 0.9949 - val_loss: 0.9142 - val_accuracy: 0.4538\n",
            "Epoch 7/200\n",
            "98/98 [==============================] - 12s 120ms/step - loss: 0.0045 - accuracy: 1.0000 - val_loss: 0.8740 - val_accuracy: 0.5077\n",
            "Epoch 8/200\n",
            "98/98 [==============================] - 12s 121ms/step - loss: 0.0023 - accuracy: 1.0000 - val_loss: 1.3666 - val_accuracy: 0.5077\n",
            "Epoch 9/200\n",
            "98/98 [==============================] - 12s 121ms/step - loss: 0.0032 - accuracy: 1.0000 - val_loss: 0.8988 - val_accuracy: 0.6000\n",
            "Epoch 10/200\n",
            "98/98 [==============================] - 12s 121ms/step - loss: 0.0031 - accuracy: 1.0000 - val_loss: 0.2071 - val_accuracy: 0.9231\n",
            "Epoch 11/200\n",
            "98/98 [==============================] - 12s 121ms/step - loss: 0.0015 - accuracy: 1.0000 - val_loss: 0.0627 - val_accuracy: 0.9846\n",
            "Epoch 12/200\n",
            "98/98 [==============================] - 12s 122ms/step - loss: 0.0020 - accuracy: 1.0000 - val_loss: 0.0322 - val_accuracy: 0.9846\n",
            "Epoch 13/200\n",
            "98/98 [==============================] - 12s 121ms/step - loss: 0.0014 - accuracy: 1.0000 - val_loss: 0.0247 - val_accuracy: 0.9923\n",
            "Epoch 14/200\n",
            "98/98 [==============================] - 12s 121ms/step - loss: 0.0013 - accuracy: 1.0000 - val_loss: 0.0181 - val_accuracy: 0.9923\n",
            "Epoch 15/200\n",
            "98/98 [==============================] - 12s 122ms/step - loss: 8.8994e-04 - accuracy: 1.0000 - val_loss: 0.0089 - val_accuracy: 1.0000\n",
            "Epoch 16/200\n",
            "98/98 [==============================] - 12s 121ms/step - loss: 9.6625e-04 - accuracy: 1.0000 - val_loss: 0.0142 - val_accuracy: 1.0000\n",
            "Epoch 17/200\n",
            "98/98 [==============================] - 12s 121ms/step - loss: 0.0011 - accuracy: 1.0000 - val_loss: 0.0363 - val_accuracy: 0.9923\n",
            "Epoch 18/200\n",
            "98/98 [==============================] - 12s 121ms/step - loss: 6.7085e-04 - accuracy: 1.0000 - val_loss: 0.0265 - val_accuracy: 0.9923\n",
            "Epoch 19/200\n",
            "98/98 [==============================] - 12s 121ms/step - loss: 2.8142e-04 - accuracy: 1.0000 - val_loss: 0.0217 - val_accuracy: 0.9923\n",
            "Epoch 20/200\n",
            "98/98 [==============================] - 12s 121ms/step - loss: 4.8342e-04 - accuracy: 1.0000 - val_loss: 0.0219 - val_accuracy: 0.9923\n",
            "Epoch 21/200\n",
            "98/98 [==============================] - 12s 122ms/step - loss: 4.2450e-04 - accuracy: 1.0000 - val_loss: 0.0174 - val_accuracy: 0.9923\n",
            "Epoch 22/200\n",
            "98/98 [==============================] - 12s 121ms/step - loss: 4.5328e-04 - accuracy: 1.0000 - val_loss: 0.0220 - val_accuracy: 0.9846\n",
            "Epoch 23/200\n",
            "98/98 [==============================] - 12s 121ms/step - loss: 2.5987e-04 - accuracy: 1.0000 - val_loss: 0.0190 - val_accuracy: 0.9923\n",
            "Epoch 24/200\n",
            "98/98 [==============================] - 12s 121ms/step - loss: 3.7386e-04 - accuracy: 1.0000 - val_loss: 0.0182 - val_accuracy: 0.9923\n",
            "Epoch 25/200\n",
            "98/98 [==============================] - 12s 122ms/step - loss: 2.8443e-04 - accuracy: 1.0000 - val_loss: 0.0165 - val_accuracy: 0.9923\n",
            "Epoch 26/200\n",
            "98/98 [==============================] - 12s 121ms/step - loss: 2.7720e-04 - accuracy: 1.0000 - val_loss: 0.0179 - val_accuracy: 0.9923\n",
            "Epoch 27/200\n",
            "98/98 [==============================] - 12s 122ms/step - loss: 2.9453e-04 - accuracy: 1.0000 - val_loss: 0.0156 - val_accuracy: 0.9923\n",
            "Epoch 28/200\n",
            "98/98 [==============================] - 12s 121ms/step - loss: 3.9464e-04 - accuracy: 1.0000 - val_loss: 0.0145 - val_accuracy: 1.0000\n",
            "Epoch 29/200\n",
            "98/98 [==============================] - 12s 121ms/step - loss: 3.1595e-04 - accuracy: 1.0000 - val_loss: 0.0130 - val_accuracy: 1.0000\n",
            "Epoch 30/200\n",
            "98/98 [==============================] - 12s 122ms/step - loss: 1.5024e-04 - accuracy: 1.0000 - val_loss: 0.0126 - val_accuracy: 1.0000\n",
            "Epoch 31/200\n",
            "98/98 [==============================] - 12s 121ms/step - loss: 0.0010 - accuracy: 1.0000 - val_loss: 0.0203 - val_accuracy: 0.9923\n",
            "Epoch 32/200\n",
            "98/98 [==============================] - 12s 121ms/step - loss: 8.6584e-04 - accuracy: 1.0000 - val_loss: 0.0138 - val_accuracy: 0.9923\n",
            "Epoch 33/200\n",
            "98/98 [==============================] - 12s 122ms/step - loss: 1.2111e-04 - accuracy: 1.0000 - val_loss: 0.0122 - val_accuracy: 1.0000\n",
            "Epoch 34/200\n",
            "98/98 [==============================] - 12s 122ms/step - loss: 2.2894e-04 - accuracy: 1.0000 - val_loss: 0.0138 - val_accuracy: 1.0000\n",
            "Epoch 35/200\n",
            "98/98 [==============================] - 12s 122ms/step - loss: 2.1165e-04 - accuracy: 1.0000 - val_loss: 0.0138 - val_accuracy: 1.0000\n",
            "Epoch 36/200\n",
            "98/98 [==============================] - 12s 122ms/step - loss: 0.0026 - accuracy: 1.0000 - val_loss: 0.1719 - val_accuracy: 0.9462\n",
            "Epoch 37/200\n",
            "98/98 [==============================] - 12s 121ms/step - loss: 0.0062 - accuracy: 0.9974 - val_loss: 0.3441 - val_accuracy: 0.9308\n",
            "Epoch 38/200\n",
            "98/98 [==============================] - 12s 121ms/step - loss: 9.1003e-04 - accuracy: 1.0000 - val_loss: 0.0424 - val_accuracy: 0.9846\n",
            "Epoch 39/200\n",
            "98/98 [==============================] - 12s 121ms/step - loss: 3.9466e-04 - accuracy: 1.0000 - val_loss: 0.0243 - val_accuracy: 0.9923\n",
            "Epoch 40/200\n",
            "98/98 [==============================] - 12s 121ms/step - loss: 3.8359e-04 - accuracy: 1.0000 - val_loss: 0.0145 - val_accuracy: 0.9923\n",
            "Epoch 41/200\n",
            "98/98 [==============================] - 12s 121ms/step - loss: 3.1327e-04 - accuracy: 1.0000 - val_loss: 0.0135 - val_accuracy: 0.9923\n",
            "Epoch 42/200\n",
            "98/98 [==============================] - 12s 121ms/step - loss: 2.3498e-04 - accuracy: 1.0000 - val_loss: 0.0124 - val_accuracy: 0.9923\n",
            "Epoch 43/200\n",
            "98/98 [==============================] - 12s 122ms/step - loss: 3.6643e-04 - accuracy: 1.0000 - val_loss: 0.0122 - val_accuracy: 0.9923\n",
            "Epoch 44/200\n",
            "98/98 [==============================] - 12s 121ms/step - loss: 0.0030 - accuracy: 1.0000 - val_loss: 0.0439 - val_accuracy: 0.9846\n",
            "Epoch 45/200\n",
            "98/98 [==============================] - 12s 121ms/step - loss: 4.4485e-04 - accuracy: 1.0000 - val_loss: 0.0188 - val_accuracy: 1.0000\n",
            "Epoch 46/200\n",
            "98/98 [==============================] - 12s 121ms/step - loss: 2.5870e-04 - accuracy: 1.0000 - val_loss: 0.0117 - val_accuracy: 1.0000\n",
            "Epoch 47/200\n",
            "98/98 [==============================] - 12s 121ms/step - loss: 3.3474e-04 - accuracy: 1.0000 - val_loss: 0.0107 - val_accuracy: 1.0000\n",
            "Epoch 48/200\n",
            "98/98 [==============================] - 12s 121ms/step - loss: 1.8245e-04 - accuracy: 1.0000 - val_loss: 0.0102 - val_accuracy: 1.0000\n",
            "Epoch 49/200\n",
            "98/98 [==============================] - 12s 121ms/step - loss: 4.8676e-04 - accuracy: 1.0000 - val_loss: 0.0100 - val_accuracy: 1.0000\n",
            "Epoch 50/200\n",
            "98/98 [==============================] - 12s 121ms/step - loss: 7.9812e-04 - accuracy: 1.0000 - val_loss: 0.0174 - val_accuracy: 0.9923\n",
            "Epoch 51/200\n",
            "98/98 [==============================] - 12s 121ms/step - loss: 4.3650e-04 - accuracy: 1.0000 - val_loss: 0.0074 - val_accuracy: 1.0000\n",
            "Epoch 52/200\n",
            "98/98 [==============================] - 12s 121ms/step - loss: 1.4453e-04 - accuracy: 1.0000 - val_loss: 0.0061 - val_accuracy: 1.0000\n",
            "Epoch 53/200\n",
            "98/98 [==============================] - 12s 122ms/step - loss: 3.3255e-04 - accuracy: 1.0000 - val_loss: 0.0058 - val_accuracy: 1.0000\n",
            "Epoch 54/200\n",
            "98/98 [==============================] - 12s 122ms/step - loss: 3.5017e-04 - accuracy: 1.0000 - val_loss: 0.0128 - val_accuracy: 1.0000\n",
            "Epoch 55/200\n",
            "98/98 [==============================] - 12s 122ms/step - loss: 1.8921e-04 - accuracy: 1.0000 - val_loss: 0.0084 - val_accuracy: 1.0000\n",
            "Epoch 56/200\n",
            "98/98 [==============================] - 12s 121ms/step - loss: 3.3348e-04 - accuracy: 1.0000 - val_loss: 0.0065 - val_accuracy: 1.0000\n",
            "Epoch 57/200\n",
            "98/98 [==============================] - 12s 122ms/step - loss: 1.4035e-04 - accuracy: 1.0000 - val_loss: 0.0052 - val_accuracy: 1.0000\n",
            "Epoch 58/200\n",
            "98/98 [==============================] - 12s 122ms/step - loss: 1.0911e-04 - accuracy: 1.0000 - val_loss: 0.0060 - val_accuracy: 1.0000\n",
            "Epoch 59/200\n",
            "98/98 [==============================] - 12s 121ms/step - loss: 7.4412e-04 - accuracy: 1.0000 - val_loss: 0.0987 - val_accuracy: 0.9692\n",
            "Epoch 60/200\n",
            "98/98 [==============================] - 12s 121ms/step - loss: 3.1134e-04 - accuracy: 1.0000 - val_loss: 0.0578 - val_accuracy: 0.9769\n",
            "Epoch 61/200\n",
            "98/98 [==============================] - 12s 121ms/step - loss: 2.6115e-04 - accuracy: 1.0000 - val_loss: 0.0282 - val_accuracy: 0.9923\n",
            "Epoch 62/200\n",
            "98/98 [==============================] - 12s 121ms/step - loss: 9.4318e-05 - accuracy: 1.0000 - val_loss: 0.0266 - val_accuracy: 0.9923\n",
            "Epoch 63/200\n",
            "98/98 [==============================] - 12s 121ms/step - loss: 0.0011 - accuracy: 1.0000 - val_loss: 0.0155 - val_accuracy: 0.9923\n",
            "Epoch 64/200\n",
            "98/98 [==============================] - 12s 121ms/step - loss: 1.2564e-04 - accuracy: 1.0000 - val_loss: 0.0122 - val_accuracy: 0.9923\n",
            "Epoch 65/200\n",
            "98/98 [==============================] - 12s 121ms/step - loss: 3.0927e-04 - accuracy: 1.0000 - val_loss: 0.0150 - val_accuracy: 0.9923\n",
            "Epoch 66/200\n",
            "98/98 [==============================] - 12s 121ms/step - loss: 2.0274e-04 - accuracy: 1.0000 - val_loss: 0.0263 - val_accuracy: 0.9923\n",
            "Epoch 67/200\n",
            "98/98 [==============================] - 12s 122ms/step - loss: 6.2852e-05 - accuracy: 1.0000 - val_loss: 0.0226 - val_accuracy: 0.9923\n",
            "Epoch 68/200\n",
            "98/98 [==============================] - 12s 122ms/step - loss: 7.8227e-05 - accuracy: 1.0000 - val_loss: 0.0202 - val_accuracy: 0.9923\n",
            "Epoch 69/200\n",
            "98/98 [==============================] - 12s 121ms/step - loss: 1.3962e-04 - accuracy: 1.0000 - val_loss: 0.0171 - val_accuracy: 0.9923\n",
            "Epoch 70/200\n",
            "98/98 [==============================] - 12s 121ms/step - loss: 4.9915e-05 - accuracy: 1.0000 - val_loss: 0.0156 - val_accuracy: 0.9923\n",
            "Epoch 71/200\n",
            "98/98 [==============================] - 12s 121ms/step - loss: 7.3301e-05 - accuracy: 1.0000 - val_loss: 0.0156 - val_accuracy: 0.9923\n",
            "Epoch 72/200\n",
            "98/98 [==============================] - 12s 122ms/step - loss: 5.0484e-05 - accuracy: 1.0000 - val_loss: 0.0149 - val_accuracy: 0.9923\n",
            "Epoch 73/200\n",
            "98/98 [==============================] - 12s 121ms/step - loss: 6.8233e-05 - accuracy: 1.0000 - val_loss: 0.0151 - val_accuracy: 0.9923\n",
            "Epoch 74/200\n",
            "98/98 [==============================] - 12s 121ms/step - loss: 4.5147e-05 - accuracy: 1.0000 - val_loss: 0.0161 - val_accuracy: 0.9923\n",
            "Epoch 75/200\n",
            "98/98 [==============================] - 12s 121ms/step - loss: 5.8959e-05 - accuracy: 1.0000 - val_loss: 0.0158 - val_accuracy: 0.9923\n",
            "Epoch 76/200\n",
            "98/98 [==============================] - 12s 121ms/step - loss: 1.0791e-04 - accuracy: 1.0000 - val_loss: 0.0155 - val_accuracy: 0.9923\n",
            "Epoch 77/200\n",
            "98/98 [==============================] - 12s 121ms/step - loss: 4.3176e-05 - accuracy: 1.0000 - val_loss: 0.0149 - val_accuracy: 0.9923\n",
            "Epoch 78/200\n",
            "98/98 [==============================] - 12s 121ms/step - loss: 3.6718e-05 - accuracy: 1.0000 - val_loss: 0.0150 - val_accuracy: 0.9923\n",
            "Epoch 79/200\n",
            "98/98 [==============================] - 12s 121ms/step - loss: 1.0867e-04 - accuracy: 1.0000 - val_loss: 0.0121 - val_accuracy: 0.9923\n",
            "Epoch 80/200\n",
            "98/98 [==============================] - 12s 122ms/step - loss: 1.4429e-04 - accuracy: 1.0000 - val_loss: 0.0149 - val_accuracy: 0.9923\n",
            "Epoch 81/200\n",
            "98/98 [==============================] - 12s 121ms/step - loss: 4.7710e-05 - accuracy: 1.0000 - val_loss: 0.0161 - val_accuracy: 0.9923\n",
            "Epoch 82/200\n",
            "98/98 [==============================] - 12s 122ms/step - loss: 4.1252e-05 - accuracy: 1.0000 - val_loss: 0.0167 - val_accuracy: 0.9923\n",
            "Epoch 83/200\n",
            "98/98 [==============================] - 12s 122ms/step - loss: 1.1968e-04 - accuracy: 1.0000 - val_loss: 0.0177 - val_accuracy: 0.9923\n",
            "Epoch 84/200\n",
            "98/98 [==============================] - 12s 122ms/step - loss: 7.5132e-05 - accuracy: 1.0000 - val_loss: 0.0189 - val_accuracy: 0.9923\n",
            "Epoch 85/200\n",
            "98/98 [==============================] - 12s 121ms/step - loss: 5.5273e-05 - accuracy: 1.0000 - val_loss: 0.0191 - val_accuracy: 0.9923\n",
            "Epoch 86/200\n",
            "98/98 [==============================] - 12s 122ms/step - loss: 6.2236e-05 - accuracy: 1.0000 - val_loss: 0.0178 - val_accuracy: 0.9923\n",
            "Epoch 87/200\n",
            "98/98 [==============================] - 12s 122ms/step - loss: 3.8616e-05 - accuracy: 1.0000 - val_loss: 0.0162 - val_accuracy: 0.9923\n",
            "Epoch 88/200\n",
            "98/98 [==============================] - 12s 122ms/step - loss: 4.4839e-05 - accuracy: 1.0000 - val_loss: 0.0155 - val_accuracy: 0.9923\n",
            "Epoch 89/200\n",
            "98/98 [==============================] - 12s 122ms/step - loss: 4.4481e-05 - accuracy: 1.0000 - val_loss: 0.0146 - val_accuracy: 0.9923\n",
            "Epoch 90/200\n",
            "98/98 [==============================] - 12s 121ms/step - loss: 4.4108e-05 - accuracy: 1.0000 - val_loss: 0.0148 - val_accuracy: 0.9923\n",
            "Epoch 91/200\n",
            "98/98 [==============================] - 12s 121ms/step - loss: 7.0449e-05 - accuracy: 1.0000 - val_loss: 0.0156 - val_accuracy: 0.9923\n",
            "Epoch 92/200\n",
            "98/98 [==============================] - 12s 122ms/step - loss: 3.9623e-05 - accuracy: 1.0000 - val_loss: 0.0146 - val_accuracy: 0.9923\n",
            "Epoch 93/200\n",
            "98/98 [==============================] - 12s 122ms/step - loss: 4.5979e-05 - accuracy: 1.0000 - val_loss: 0.0147 - val_accuracy: 0.9923\n",
            "Epoch 94/200\n",
            "98/98 [==============================] - 12s 122ms/step - loss: 3.9968e-05 - accuracy: 1.0000 - val_loss: 0.0140 - val_accuracy: 0.9923\n",
            "Epoch 95/200\n",
            "98/98 [==============================] - 12s 122ms/step - loss: 2.4138e-05 - accuracy: 1.0000 - val_loss: 0.0133 - val_accuracy: 0.9923\n",
            "Epoch 96/200\n",
            "98/98 [==============================] - 12s 122ms/step - loss: 4.0805e-05 - accuracy: 1.0000 - val_loss: 0.0126 - val_accuracy: 0.9923\n",
            "Epoch 97/200\n",
            "98/98 [==============================] - 12s 122ms/step - loss: 3.1379e-05 - accuracy: 1.0000 - val_loss: 0.0133 - val_accuracy: 0.9923\n",
            "Epoch 98/200\n",
            "98/98 [==============================] - 12s 122ms/step - loss: 2.9336e-05 - accuracy: 1.0000 - val_loss: 0.0124 - val_accuracy: 0.9923\n",
            "Epoch 99/200\n",
            "98/98 [==============================] - 12s 121ms/step - loss: 6.1412e-05 - accuracy: 1.0000 - val_loss: 0.0135 - val_accuracy: 0.9923\n",
            "Epoch 100/200\n",
            "98/98 [==============================] - 12s 121ms/step - loss: 4.1856e-05 - accuracy: 1.0000 - val_loss: 0.0136 - val_accuracy: 0.9923\n",
            "Epoch 101/200\n",
            "98/98 [==============================] - 12s 122ms/step - loss: 4.2774e-05 - accuracy: 1.0000 - val_loss: 0.0147 - val_accuracy: 0.9923\n",
            "Epoch 102/200\n",
            "98/98 [==============================] - 12s 122ms/step - loss: 3.6232e-05 - accuracy: 1.0000 - val_loss: 0.0144 - val_accuracy: 0.9923\n",
            "Epoch 103/200\n",
            "98/98 [==============================] - 12s 122ms/step - loss: 5.2580e-05 - accuracy: 1.0000 - val_loss: 0.0136 - val_accuracy: 0.9923\n",
            "Epoch 104/200\n",
            "98/98 [==============================] - 12s 121ms/step - loss: 2.9628e-05 - accuracy: 1.0000 - val_loss: 0.0139 - val_accuracy: 0.9923\n",
            "Epoch 105/200\n",
            "98/98 [==============================] - 12s 122ms/step - loss: 3.4314e-05 - accuracy: 1.0000 - val_loss: 0.0134 - val_accuracy: 0.9923\n",
            "Epoch 106/200\n",
            "98/98 [==============================] - 12s 122ms/step - loss: 5.8094e-05 - accuracy: 1.0000 - val_loss: 0.0140 - val_accuracy: 0.9923\n",
            "Epoch 107/200\n",
            "98/98 [==============================] - 12s 121ms/step - loss: 3.2590e-05 - accuracy: 1.0000 - val_loss: 0.0135 - val_accuracy: 0.9923\n",
            "Epoch 108/200\n",
            "98/98 [==============================] - 12s 122ms/step - loss: 4.7737e-05 - accuracy: 1.0000 - val_loss: 0.0136 - val_accuracy: 0.9923\n",
            "Epoch 109/200\n",
            "98/98 [==============================] - 12s 122ms/step - loss: 3.9941e-05 - accuracy: 1.0000 - val_loss: 0.0137 - val_accuracy: 0.9923\n",
            "Epoch 110/200\n",
            "98/98 [==============================] - 12s 122ms/step - loss: 5.2810e-05 - accuracy: 1.0000 - val_loss: 0.0147 - val_accuracy: 0.9923\n",
            "Epoch 111/200\n",
            "98/98 [==============================] - 12s 122ms/step - loss: 3.1070e-05 - accuracy: 1.0000 - val_loss: 0.0138 - val_accuracy: 0.9923\n",
            "Epoch 112/200\n",
            "98/98 [==============================] - 12s 121ms/step - loss: 3.1876e-05 - accuracy: 1.0000 - val_loss: 0.0131 - val_accuracy: 0.9923\n",
            "Epoch 113/200\n",
            "98/98 [==============================] - 12s 122ms/step - loss: 5.8436e-05 - accuracy: 1.0000 - val_loss: 0.0133 - val_accuracy: 0.9923\n",
            "Epoch 114/200\n",
            "98/98 [==============================] - 12s 121ms/step - loss: 2.6992e-05 - accuracy: 1.0000 - val_loss: 0.0136 - val_accuracy: 0.9923\n",
            "Epoch 115/200\n",
            "98/98 [==============================] - 12s 121ms/step - loss: 5.7075e-05 - accuracy: 1.0000 - val_loss: 0.0137 - val_accuracy: 0.9923\n",
            "Epoch 116/200\n",
            "98/98 [==============================] - 12s 122ms/step - loss: 3.8881e-05 - accuracy: 1.0000 - val_loss: 0.0133 - val_accuracy: 0.9923\n",
            "Epoch 117/200\n",
            "98/98 [==============================] - 12s 121ms/step - loss: 2.2492e-05 - accuracy: 1.0000 - val_loss: 0.0124 - val_accuracy: 0.9923\n",
            "Epoch 118/200\n",
            "98/98 [==============================] - 12s 122ms/step - loss: 4.3529e-05 - accuracy: 1.0000 - val_loss: 0.0149 - val_accuracy: 0.9923\n",
            "Epoch 119/200\n",
            "98/98 [==============================] - 12s 122ms/step - loss: 2.5257e-05 - accuracy: 1.0000 - val_loss: 0.0132 - val_accuracy: 0.9923\n",
            "Epoch 120/200\n",
            "98/98 [==============================] - 12s 122ms/step - loss: 3.8888e-05 - accuracy: 1.0000 - val_loss: 0.0121 - val_accuracy: 0.9923\n",
            "Epoch 121/200\n",
            "98/98 [==============================] - 12s 122ms/step - loss: 3.5276e-05 - accuracy: 1.0000 - val_loss: 0.0106 - val_accuracy: 0.9923\n",
            "Epoch 122/200\n",
            "98/98 [==============================] - 12s 122ms/step - loss: 3.6710e-05 - accuracy: 1.0000 - val_loss: 0.0119 - val_accuracy: 0.9923\n",
            "Epoch 123/200\n",
            "98/98 [==============================] - 12s 122ms/step - loss: 2.7369e-05 - accuracy: 1.0000 - val_loss: 0.0113 - val_accuracy: 0.9923\n",
            "Epoch 124/200\n",
            "98/98 [==============================] - 12s 121ms/step - loss: 3.1183e-05 - accuracy: 1.0000 - val_loss: 0.0107 - val_accuracy: 0.9923\n",
            "Epoch 125/200\n",
            "98/98 [==============================] - 12s 121ms/step - loss: 3.9644e-05 - accuracy: 1.0000 - val_loss: 0.0110 - val_accuracy: 0.9923\n",
            "Epoch 126/200\n",
            "98/98 [==============================] - 12s 122ms/step - loss: 2.6600e-05 - accuracy: 1.0000 - val_loss: 0.0116 - val_accuracy: 0.9923\n",
            "Epoch 127/200\n",
            "98/98 [==============================] - 12s 122ms/step - loss: 2.4684e-05 - accuracy: 1.0000 - val_loss: 0.0112 - val_accuracy: 0.9923\n",
            "Epoch 128/200\n",
            "98/98 [==============================] - 12s 122ms/step - loss: 3.9674e-05 - accuracy: 1.0000 - val_loss: 0.0105 - val_accuracy: 0.9923\n",
            "Epoch 129/200\n",
            "98/98 [==============================] - 12s 122ms/step - loss: 1.8093e-05 - accuracy: 1.0000 - val_loss: 0.0107 - val_accuracy: 0.9923\n",
            "Epoch 130/200\n",
            "98/98 [==============================] - 12s 122ms/step - loss: 2.5302e-05 - accuracy: 1.0000 - val_loss: 0.0114 - val_accuracy: 0.9923\n",
            "Epoch 131/200\n",
            "98/98 [==============================] - 12s 122ms/step - loss: 4.5944e-05 - accuracy: 1.0000 - val_loss: 0.0120 - val_accuracy: 0.9923\n",
            "Epoch 132/200\n",
            "98/98 [==============================] - 12s 122ms/step - loss: 2.0304e-05 - accuracy: 1.0000 - val_loss: 0.0114 - val_accuracy: 0.9923\n",
            "Epoch 133/200\n",
            "98/98 [==============================] - 12s 123ms/step - loss: 3.2968e-05 - accuracy: 1.0000 - val_loss: 0.0120 - val_accuracy: 0.9923\n",
            "Epoch 134/200\n",
            "98/98 [==============================] - 12s 122ms/step - loss: 2.4259e-05 - accuracy: 1.0000 - val_loss: 0.0120 - val_accuracy: 0.9923\n",
            "Epoch 135/200\n",
            "98/98 [==============================] - 13s 131ms/step - loss: 2.4466e-05 - accuracy: 1.0000 - val_loss: 0.0112 - val_accuracy: 0.9923\n",
            "Epoch 136/200\n",
            "98/98 [==============================] - 13s 135ms/step - loss: 2.8448e-05 - accuracy: 1.0000 - val_loss: 0.0108 - val_accuracy: 0.9923\n",
            "Epoch 137/200\n",
            "98/98 [==============================] - 12s 122ms/step - loss: 2.0053e-05 - accuracy: 1.0000 - val_loss: 0.0114 - val_accuracy: 0.9923\n",
            "Epoch 138/200\n",
            "98/98 [==============================] - 12s 122ms/step - loss: 3.2122e-05 - accuracy: 1.0000 - val_loss: 0.0123 - val_accuracy: 0.9923\n",
            "Epoch 139/200\n",
            "98/98 [==============================] - 12s 122ms/step - loss: 4.2435e-05 - accuracy: 1.0000 - val_loss: 0.0117 - val_accuracy: 0.9923\n",
            "Epoch 140/200\n",
            "98/98 [==============================] - 12s 122ms/step - loss: 2.9978e-05 - accuracy: 1.0000 - val_loss: 0.0110 - val_accuracy: 0.9923\n",
            "Epoch 141/200\n",
            "98/98 [==============================] - 12s 122ms/step - loss: 2.6755e-05 - accuracy: 1.0000 - val_loss: 0.0114 - val_accuracy: 0.9923\n",
            "Epoch 142/200\n",
            "98/98 [==============================] - 12s 122ms/step - loss: 2.8708e-05 - accuracy: 1.0000 - val_loss: 0.0094 - val_accuracy: 0.9923\n",
            "Epoch 143/200\n",
            "98/98 [==============================] - 12s 122ms/step - loss: 3.3118e-05 - accuracy: 1.0000 - val_loss: 0.0097 - val_accuracy: 0.9923\n",
            "Epoch 144/200\n",
            "98/98 [==============================] - 12s 122ms/step - loss: 4.1775e-05 - accuracy: 1.0000 - val_loss: 0.0087 - val_accuracy: 0.9923\n",
            "Epoch 145/200\n",
            "98/98 [==============================] - 12s 122ms/step - loss: 4.7738e-05 - accuracy: 1.0000 - val_loss: 0.0088 - val_accuracy: 0.9923\n",
            "Epoch 146/200\n",
            "98/98 [==============================] - 12s 122ms/step - loss: 1.2129e-04 - accuracy: 1.0000 - val_loss: 0.0096 - val_accuracy: 0.9923\n",
            "Epoch 147/200\n",
            "98/98 [==============================] - 12s 121ms/step - loss: 2.4715e-05 - accuracy: 1.0000 - val_loss: 0.0106 - val_accuracy: 0.9923\n",
            "Epoch 148/200\n",
            "98/98 [==============================] - 12s 121ms/step - loss: 1.3893e-05 - accuracy: 1.0000 - val_loss: 0.0101 - val_accuracy: 0.9923\n",
            "Epoch 149/200\n",
            "98/98 [==============================] - 12s 121ms/step - loss: 1.6497e-05 - accuracy: 1.0000 - val_loss: 0.0096 - val_accuracy: 0.9923\n",
            "Epoch 150/200\n",
            "98/98 [==============================] - 12s 121ms/step - loss: 2.4540e-05 - accuracy: 1.0000 - val_loss: 0.0092 - val_accuracy: 0.9923\n",
            "Epoch 151/200\n",
            "98/98 [==============================] - 12s 121ms/step - loss: 2.1729e-05 - accuracy: 1.0000 - val_loss: 0.0091 - val_accuracy: 0.9923\n",
            "Epoch 152/200\n",
            "98/98 [==============================] - 12s 122ms/step - loss: 1.3433e-05 - accuracy: 1.0000 - val_loss: 0.0100 - val_accuracy: 0.9923\n",
            "Epoch 153/200\n",
            "98/98 [==============================] - 12s 121ms/step - loss: 2.3040e-05 - accuracy: 1.0000 - val_loss: 0.0093 - val_accuracy: 0.9923\n",
            "Epoch 154/200\n",
            "98/98 [==============================] - 12s 121ms/step - loss: 1.4983e-05 - accuracy: 1.0000 - val_loss: 0.0097 - val_accuracy: 0.9923\n",
            "Epoch 155/200\n",
            "98/98 [==============================] - 12s 122ms/step - loss: 3.9169e-05 - accuracy: 1.0000 - val_loss: 0.0090 - val_accuracy: 0.9923\n",
            "Epoch 156/200\n",
            "98/98 [==============================] - 12s 122ms/step - loss: 1.7135e-05 - accuracy: 1.0000 - val_loss: 0.0089 - val_accuracy: 0.9923\n",
            "Epoch 157/200\n",
            "98/98 [==============================] - 12s 122ms/step - loss: 5.6546e-05 - accuracy: 1.0000 - val_loss: 0.0115 - val_accuracy: 0.9923\n",
            "Epoch 158/200\n",
            "98/98 [==============================] - 12s 121ms/step - loss: 2.6578e-05 - accuracy: 1.0000 - val_loss: 0.0111 - val_accuracy: 0.9923\n",
            "Epoch 159/200\n",
            "98/98 [==============================] - 12s 121ms/step - loss: 1.6198e-05 - accuracy: 1.0000 - val_loss: 0.0107 - val_accuracy: 0.9923\n",
            "Epoch 160/200\n",
            "98/98 [==============================] - 12s 121ms/step - loss: 2.4968e-05 - accuracy: 1.0000 - val_loss: 0.0109 - val_accuracy: 0.9923\n",
            "Epoch 161/200\n",
            "98/98 [==============================] - 12s 122ms/step - loss: 2.0166e-05 - accuracy: 1.0000 - val_loss: 0.0103 - val_accuracy: 0.9923\n",
            "Epoch 162/200\n",
            "98/98 [==============================] - 12s 121ms/step - loss: 1.9034e-05 - accuracy: 1.0000 - val_loss: 0.0109 - val_accuracy: 0.9923\n",
            "Epoch 163/200\n",
            "98/98 [==============================] - 12s 122ms/step - loss: 2.7594e-05 - accuracy: 1.0000 - val_loss: 0.0112 - val_accuracy: 0.9923\n",
            "Epoch 164/200\n",
            "98/98 [==============================] - 12s 122ms/step - loss: 1.6594e-05 - accuracy: 1.0000 - val_loss: 0.0118 - val_accuracy: 0.9923\n",
            "Epoch 165/200\n",
            "98/98 [==============================] - 12s 122ms/step - loss: 2.2712e-05 - accuracy: 1.0000 - val_loss: 0.0125 - val_accuracy: 0.9923\n",
            "Epoch 166/200\n",
            "98/98 [==============================] - 12s 121ms/step - loss: 1.9231e-05 - accuracy: 1.0000 - val_loss: 0.0105 - val_accuracy: 0.9923\n",
            "Epoch 167/200\n",
            "98/98 [==============================] - 12s 122ms/step - loss: 1.7222e-05 - accuracy: 1.0000 - val_loss: 0.0113 - val_accuracy: 0.9923\n",
            "Epoch 168/200\n",
            "98/98 [==============================] - 12s 121ms/step - loss: 1.4361e-05 - accuracy: 1.0000 - val_loss: 0.0122 - val_accuracy: 0.9923\n",
            "Epoch 169/200\n",
            "98/98 [==============================] - 12s 122ms/step - loss: 2.1454e-05 - accuracy: 1.0000 - val_loss: 0.0121 - val_accuracy: 0.9923\n",
            "Epoch 170/200\n",
            "98/98 [==============================] - 12s 122ms/step - loss: 2.3282e-05 - accuracy: 1.0000 - val_loss: 0.0109 - val_accuracy: 0.9923\n",
            "Epoch 171/200\n",
            "98/98 [==============================] - 12s 121ms/step - loss: 1.8328e-05 - accuracy: 1.0000 - val_loss: 0.0114 - val_accuracy: 0.9923\n",
            "Epoch 172/200\n",
            "98/98 [==============================] - 12s 121ms/step - loss: 1.1903e-05 - accuracy: 1.0000 - val_loss: 0.0106 - val_accuracy: 0.9923\n",
            "Epoch 173/200\n",
            "98/98 [==============================] - 12s 122ms/step - loss: 1.8614e-05 - accuracy: 1.0000 - val_loss: 0.0101 - val_accuracy: 0.9923\n",
            "Epoch 174/200\n",
            "98/98 [==============================] - 12s 122ms/step - loss: 3.3365e-05 - accuracy: 1.0000 - val_loss: 0.0106 - val_accuracy: 0.9923\n",
            "Epoch 175/200\n",
            "98/98 [==============================] - 12s 122ms/step - loss: 1.9159e-05 - accuracy: 1.0000 - val_loss: 0.0101 - val_accuracy: 0.9923\n",
            "Epoch 176/200\n",
            "98/98 [==============================] - 12s 122ms/step - loss: 2.8268e-05 - accuracy: 1.0000 - val_loss: 0.0124 - val_accuracy: 0.9923\n",
            "Epoch 177/200\n",
            "98/98 [==============================] - 12s 121ms/step - loss: 2.1336e-05 - accuracy: 1.0000 - val_loss: 0.0133 - val_accuracy: 0.9923\n",
            "Epoch 178/200\n",
            "98/98 [==============================] - 12s 122ms/step - loss: 1.4462e-05 - accuracy: 1.0000 - val_loss: 0.0122 - val_accuracy: 0.9923\n",
            "Epoch 179/200\n",
            "98/98 [==============================] - 12s 121ms/step - loss: 2.6598e-05 - accuracy: 1.0000 - val_loss: 0.0107 - val_accuracy: 0.9923\n",
            "Epoch 180/200\n",
            "98/98 [==============================] - 12s 122ms/step - loss: 2.2153e-05 - accuracy: 1.0000 - val_loss: 0.0114 - val_accuracy: 0.9923\n",
            "Epoch 181/200\n",
            "98/98 [==============================] - 12s 121ms/step - loss: 6.6469e-05 - accuracy: 1.0000 - val_loss: 0.0099 - val_accuracy: 0.9923\n",
            "Epoch 182/200\n",
            "98/98 [==============================] - 12s 122ms/step - loss: 2.0008e-05 - accuracy: 1.0000 - val_loss: 0.0110 - val_accuracy: 0.9923\n",
            "Epoch 183/200\n",
            "98/98 [==============================] - 12s 121ms/step - loss: 2.3973e-05 - accuracy: 1.0000 - val_loss: 0.0112 - val_accuracy: 0.9923\n",
            "Epoch 184/200\n",
            "98/98 [==============================] - 12s 122ms/step - loss: 1.6320e-05 - accuracy: 1.0000 - val_loss: 0.0123 - val_accuracy: 0.9923\n",
            "Epoch 185/200\n",
            "98/98 [==============================] - 12s 121ms/step - loss: 4.8919e-05 - accuracy: 1.0000 - val_loss: 0.0089 - val_accuracy: 0.9923\n",
            "Epoch 186/200\n",
            "98/98 [==============================] - 12s 122ms/step - loss: 1.3154e-05 - accuracy: 1.0000 - val_loss: 0.0086 - val_accuracy: 0.9923\n",
            "Epoch 187/200\n",
            "98/98 [==============================] - 12s 122ms/step - loss: 1.6227e-05 - accuracy: 1.0000 - val_loss: 0.0095 - val_accuracy: 0.9923\n",
            "Epoch 188/200\n",
            "98/98 [==============================] - 12s 122ms/step - loss: 1.0173e-05 - accuracy: 1.0000 - val_loss: 0.0094 - val_accuracy: 0.9923\n",
            "Epoch 189/200\n",
            "98/98 [==============================] - 12s 122ms/step - loss: 1.6894e-05 - accuracy: 1.0000 - val_loss: 0.0078 - val_accuracy: 0.9923\n",
            "Epoch 190/200\n",
            "98/98 [==============================] - 12s 122ms/step - loss: 2.0514e-05 - accuracy: 1.0000 - val_loss: 0.0087 - val_accuracy: 0.9923\n",
            "Epoch 191/200\n",
            "98/98 [==============================] - 12s 122ms/step - loss: 1.5731e-05 - accuracy: 1.0000 - val_loss: 0.0092 - val_accuracy: 0.9923\n",
            "Epoch 192/200\n",
            "98/98 [==============================] - 12s 122ms/step - loss: 1.5562e-05 - accuracy: 1.0000 - val_loss: 0.0087 - val_accuracy: 0.9923\n",
            "Epoch 193/200\n",
            "98/98 [==============================] - 12s 122ms/step - loss: 2.0059e-05 - accuracy: 1.0000 - val_loss: 0.0091 - val_accuracy: 0.9923\n",
            "Epoch 194/200\n",
            "98/98 [==============================] - 12s 122ms/step - loss: 3.0302e-05 - accuracy: 1.0000 - val_loss: 0.0094 - val_accuracy: 0.9923\n",
            "Epoch 195/200\n",
            "98/98 [==============================] - 12s 121ms/step - loss: 1.8042e-05 - accuracy: 1.0000 - val_loss: 0.0087 - val_accuracy: 0.9923\n",
            "Epoch 196/200\n",
            "98/98 [==============================] - 12s 122ms/step - loss: 1.5761e-05 - accuracy: 1.0000 - val_loss: 0.0094 - val_accuracy: 0.9923\n",
            "Epoch 197/200\n",
            "98/98 [==============================] - 12s 122ms/step - loss: 2.2913e-05 - accuracy: 1.0000 - val_loss: 0.0082 - val_accuracy: 0.9923\n",
            "Epoch 198/200\n",
            "98/98 [==============================] - 12s 121ms/step - loss: 1.6822e-05 - accuracy: 1.0000 - val_loss: 0.0080 - val_accuracy: 0.9923\n",
            "Epoch 199/200\n",
            "98/98 [==============================] - 12s 121ms/step - loss: 1.1486e-05 - accuracy: 1.0000 - val_loss: 0.0078 - val_accuracy: 1.0000\n",
            "Epoch 200/200\n",
            "98/98 [==============================] - 12s 122ms/step - loss: 1.7805e-05 - accuracy: 1.0000 - val_loss: 0.0085 - val_accuracy: 0.9923\n"
          ]
        }
      ],
      "source": [
        "model_history = model.fit(train_generator,\n",
        "                            validation_data=validation_generator,\n",
        "                            steps_per_epoch=train_generator.n/batch_size,\n",
        "                            validation_steps=validation_generator.n/batch_size,\n",
        "                            epochs=200,\n",
        "                            verbose=1)\n",
        "                            # callbacks=[mc])\n",
        "                            #, rlr])"
      ]
    },
    {
      "cell_type": "code",
      "execution_count": 11,
      "metadata": {},
      "outputs": [],
      "source": [
        "'''\n",
        "kemudian kita convert datalog dari history model dalam bentuk file .csv\n",
        "file ini dapat didownload di gdrive (akan muncul di tab kiri <<<<)\n",
        "'''\n",
        "\n",
        "import pandas as pd  \n",
        "hist_df = pd.DataFrame(model_history.history) \n",
        "\n",
        "# or save to csv: \n",
        "hist_csv_file = 'history.csv'\n",
        "with open(hist_csv_file, mode='w') as f:\n",
        "    hist_df.to_csv(f)"
      ]
    },
    {
      "cell_type": "code",
      "execution_count": 12,
      "metadata": {
        "id": "DSZBC41B8X6A"
      },
      "outputs": [
        {
          "name": "stderr",
          "output_type": "stream",
          "text": [
            "WARNING:absl:Found untraced functions such as _jit_compiled_convolution_op, _jit_compiled_convolution_op, _jit_compiled_convolution_op, _jit_compiled_convolution_op, _jit_compiled_convolution_op while saving (showing 5 of 104). These functions will not be directly callable after loading.\n"
          ]
        },
        {
          "name": "stdout",
          "output_type": "stream",
          "text": [
            "INFO:tensorflow:Assets written to: C:\\Users\\LabData\\AppData\\Local\\Temp\\tmphbvcneea\\assets\n"
          ]
        },
        {
          "name": "stderr",
          "output_type": "stream",
          "text": [
            "INFO:tensorflow:Assets written to: C:\\Users\\LabData\\AppData\\Local\\Temp\\tmphbvcneea\\assets\n"
          ]
        }
      ],
      "source": [
        "'''\n",
        "model yang telah ditrain juga dapat disimpan dalam bentuk format .tflite dan .h5\n",
        "file .tflite dapat kita benam kedalam smartphone\n",
        "sedangkan file .h5 bisa kita gunakan kembali dengan function load model\n",
        "'''\n",
        "\n",
        "# save file to format .hdf5\n",
        "model.save(\"model_resnet101.h5\")\n",
        "\n",
        "# Convert the model to TFLite format\n",
        "converter = tf.lite.TFLiteConverter.from_keras_model(model)\n",
        "\n",
        "# Convert the model\n",
        "tflite_model = converter.convert()\n",
        "\n",
        "# Save to file\n",
        "with open(\"model.tflite\", \"wb\") as f:\n",
        "  f.write(tflite_model)"
      ]
    },
    {
      "cell_type": "code",
      "execution_count": 13,
      "metadata": {
        "colab": {
          "base_uri": "https://localhost:8080/",
          "height": 316
        },
        "id": "xIZtgLe18cGN",
        "outputId": "77a51c26-b1bd-4ffd-88f4-6eba8c7b8089"
      },
      "outputs": [
        {
          "data": {
            "text/plain": [
              "<Figure size 432x288 with 0 Axes>"
            ]
          },
          "execution_count": 13,
          "metadata": {},
          "output_type": "execute_result"
        },
        {
          "data": {
            "image/png": "[encoded data removed]",
            "text/plain": [
              "<Figure size 432x288 with 1 Axes>"
            ]
          },
          "metadata": {
            "needs_background": "light"
          },
          "output_type": "display_data"
        },
        {
          "data": {
            "text/plain": [
              "<Figure size 432x288 with 0 Axes>"
            ]
          },
          "metadata": {},
          "output_type": "display_data"
        }
      ],
      "source": [
        "# Plot training and validation accuracy by epoch\n",
        "acc = model_history.history['accuracy']\n",
        "val_acc = model_history.history['val_accuracy']\n",
        "\n",
        "epochs = range(len(acc))\n",
        "\n",
        "plt.plot(epochs, acc, 'r', label='Training accuracy')\n",
        "plt.plot(epochs, val_acc, 'b', label='Validation accuracy')\n",
        "plt.title('Training and validation accuracy')\n",
        "plt.legend()\n",
        "plt.figure()"
      ]
    },
    {
      "cell_type": "code",
      "execution_count": 14,
      "metadata": {
        "colab": {
          "base_uri": "https://localhost:8080/",
          "height": 316
        },
        "id": "AKDHxVITH1KL",
        "outputId": "9b3c2881-d5f9-41f4-be7d-f9ed1d66c032"
      },
      "outputs": [
        {
          "data": {
            "text/plain": [
              "<Figure size 432x288 with 0 Axes>"
            ]
          },
          "execution_count": 14,
          "metadata": {},
          "output_type": "execute_result"
        },
        {
          "data": {
            "image/png": "[encoded data removed]",
            "text/plain": [
              "<Figure size 432x288 with 1 Axes>"
            ]
          },
          "metadata": {
            "needs_background": "light"
          },
          "output_type": "display_data"
        },
        {
          "data": {
            "text/plain": [
              "<Figure size 432x288 with 0 Axes>"
            ]
          },
          "metadata": {},
          "output_type": "display_data"
        }
      ],
      "source": [
        "# Plot training and validation accuracy by epoch\n",
        "loss = model_history.history['loss']\n",
        "val_loss = model_history.history['val_loss']\n",
        "\n",
        "epochs = range(len(loss))\n",
        "\n",
        "plt.plot(epochs, loss, 'r', label='Training loss')\n",
        "plt.plot(epochs, val_loss, 'b', label='Validation loss')\n",
        "plt.title('Training and validation loss')\n",
        "plt.legend()\n",
        "plt.figure()"
      ]
    },
    {
      "cell_type": "code",
      "execution_count": 15,
      "metadata": {
        "colab": {
          "base_uri": "https://localhost:8080/"
        },
        "id": "O6_Cso4cIHqI",
        "outputId": "4766247d-4f00-485e-cfd8-13220cada435"
      },
      "outputs": [
        {
          "name": "stdout",
          "output_type": "stream",
          "text": [
            "Found 130 images belonging to 2 classes.\n"
          ]
        },
        {
          "name": "stderr",
          "output_type": "stream",
          "text": [
            "C:\\Users\\LabData\\AppData\\Local\\Temp\\ipykernel_2072\\3648189458.py:14: UserWarning: `Model.predict_generator` is deprecated and will be removed in a future version. Please use `Model.predict`, which supports generators.\n",
            "  preds = model.predict_generator(generator=test_generator) # get proba predictions\n"
          ]
        }
      ],
      "source": [
        "test_datagen = ImageDataGenerator(rescale=1./255)\n",
        "                                    \n",
        "test_generator = test_datagen.flow_from_directory(\n",
        "    directory = input_path+\"test\",\n",
        "    target_size=(img_dims, img_dims),\n",
        "    class_mode=\"binary\",\n",
        "    shuffle=False,\n",
        "    batch_size=batch_size\n",
        ")\n",
        "\n",
        "preds = model.predict_generator(generator=test_generator) # get proba predictions\n",
        "labels = 1*(preds > 0.5) # convert proba to classes"
      ]
    },
    {
      "cell_type": "code",
      "execution_count": 16,
      "metadata": {},
      "outputs": [
        {
          "name": "stdout",
          "output_type": "stream",
          "text": [
            "33/33 [==============================] - 1s 34ms/step - loss: 0.0309 - accuracy: 0.9923\n"
          ]
        },
        {
          "data": {
            "text/plain": [
              "[0.0308553297072649, 0.9923076629638672]"
            ]
          },
          "execution_count": 16,
          "metadata": {},
          "output_type": "execute_result"
        }
      ],
      "source": [
        "model.evaluate(test_generator)"
      ]
    },
    {
      "cell_type": "code",
      "execution_count": 17,
      "metadata": {
        "colab": {
          "base_uri": "https://localhost:8080/",
          "height": 334
        },
        "id": "zuP4NDa3IkKB",
        "outputId": "1ee8a7d6-4be6-4bf1-df94-77affe92bdbc"
      },
      "outputs": [
        {
          "data": {
            "image/png": "[encoded data removed]",
            "text/plain": [
              "<Figure size 360x360 with 1 Axes>"
            ]
          },
          "metadata": {
            "needs_background": "light"
          },
          "output_type": "display_data"
        }
      ],
      "source": [
        "from sklearn.metrics import confusion_matrix\n",
        "from mlxtend.plotting import plot_confusion_matrix\n",
        "CM = confusion_matrix(test_generator.classes, labels)\n",
        "fig, ax = plot_confusion_matrix(conf_mat=CM ,  figsize=(5, 5))\n",
        "plt.show()"
      ]
    },
    {
      "cell_type": "code",
      "execution_count": 18,
      "metadata": {},
      "outputs": [
        {
          "name": "stdout",
          "output_type": "stream",
          "text": [
            "accuracy: 0.9923076923076923\n",
            "sensitivity: 0.9846153846153847\n",
            "specificity: 1.0\n",
            "precision: 1.0\n"
          ]
        }
      ],
      "source": [
        "tn, fp, fn, tp = CM.ravel()\n",
        "akurasi = (tp + tn) / (tp + tn + fp + fn)\n",
        "sensitivity = tp / (tp + fn)\n",
        "specificity = tn / (tn + fp)\n",
        "precision = tp / (tp + fp)\n",
        "print('accuracy:', akurasi)\n",
        "print('sensitivity:', sensitivity)\n",
        "print('specificity:', specificity)\n",
        "print('precision:', precision)"
      ]
    }
  ],
  "metadata": {
    "colab": {
      "provenance": []
    },
    "kernelspec": {
      "display_name": "tf",
      "language": "python",
      "name": "python3"
    },
    "language_info": {
      "codemirror_mode": {
        "name": "ipython",
        "version": 3
      },
      "file_extension": ".py",
      "mimetype": "text/x-python",
      "name": "python",
      "nbconvert_exporter": "python",
      "pygments_lexer": "ipython3",
      "version": "3.9.12"
    },
    "vscode": {
      "interpreter": {
        "hash": "55399b9152f53381a05f2fc335a781028082887c300d98c056479698817ac7ac"
      }
    }
  },
  "nbformat": 4,
  "nbformat_minor": 0
}
